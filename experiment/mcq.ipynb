{
 "cells": [
  {
   "cell_type": "code",
   "execution_count": 1,
   "metadata": {},
   "outputs": [
    {
     "name": "stdout",
     "output_type": "stream",
     "text": [
      "hello\n"
     ]
    }
   ],
   "source": [
    "import os\n",
    "import json\n",
    "import  pandas as pd\n",
    "import traceback # type: ignore\n",
    "print(\"hello\")"
   ]
  },
  {
   "cell_type": "code",
   "execution_count": 2,
   "metadata": {},
   "outputs": [],
   "source": [
    "from langchain.chat_models import ChatOpenAI"
   ]
  },
  {
   "cell_type": "code",
   "execution_count": 3,
   "metadata": {},
   "outputs": [
    {
     "data": {
      "text/plain": [
       "True"
      ]
     },
     "execution_count": 3,
     "metadata": {},
     "output_type": "execute_result"
    }
   ],
   "source": [
    "from dotenv import load_dotenv\n",
    "load_dotenv()"
   ]
  },
  {
   "cell_type": "code",
   "execution_count": 12,
   "metadata": {},
   "outputs": [],
   "source": [
    "key_openai = os.getenv(\"OPENAI_API_KEY\")"
   ]
  },
  {
   "cell_type": "code",
   "execution_count": 13,
   "metadata": {},
   "outputs": [
    {
     "name": "stderr",
     "output_type": "stream",
     "text": [
      "c:\\Users\\dell\\Desktop\\GEN AI Proj\\MCQ\\GenAI\\env\\lib\\site-packages\\langchain_core\\_api\\deprecation.py:117: LangChainDeprecationWarning: The class `langchain_community.chat_models.openai.ChatOpenAI` was deprecated in langchain-community 0.0.10 and will be removed in 0.2.0. An updated version of the class exists in the langchain-openai package and should be used instead. To use it run `pip install -U langchain-openai` and import as `from langchain_openai import ChatOpenAI`.\n",
      "  warn_deprecated(\n"
     ]
    }
   ],
   "source": [
    "llm = ChatOpenAI(openai_api_key=key_openai,model_name=\"gpt-3.5-turbo\",temperature=0.7)"
   ]
  },
  {
   "cell_type": "code",
   "execution_count": 14,
   "metadata": {},
   "outputs": [],
   "source": [
    "from langchain_openai import ChatOpenAI\n",
    "llm = ChatOpenAI(openai_api_key=key_openai,model_name=\"gpt-3.5-turbo\",temperature=0.7)"
   ]
  },
  {
   "cell_type": "code",
   "execution_count": 15,
   "metadata": {},
   "outputs": [
    {
     "data": {
      "text/plain": [
       "ChatOpenAI(client=<openai.resources.chat.completions.Completions object at 0x000001924D488DF0>, async_client=<openai.resources.chat.completions.AsyncCompletions object at 0x000001924D48A290>, openai_api_key=SecretStr('**********'), openai_proxy='')"
      ]
     },
     "execution_count": 15,
     "metadata": {},
     "output_type": "execute_result"
    }
   ],
   "source": [
    "llm"
   ]
  },
  {
   "cell_type": "code",
   "execution_count": 17,
   "metadata": {},
   "outputs": [],
   "source": [
    "from langchain_openai import OpenAI\n",
    "from langchain.prompts import PromptTemplate\n",
    "from langchain.chains import LLMChain, SequentialChain\n",
    "from langchain.callbacks import get_openai_callback\n",
    "import PyPDF2"
   ]
  },
  {
   "cell_type": "code",
   "execution_count": 18,
   "metadata": {},
   "outputs": [],
   "source": [
    "RESPONSE_JSON ={\n",
    "    \"1\":{\n",
    "        \"mcq\":\"multiple choice question\",\n",
    "        \"options\":{\n",
    "            \"a\":\"choice here\",\n",
    "            \"b\":\"choice here\",\n",
    "            \"c\":\"choice here\",\n",
    "            \"d\":\"choice here\"\n",
    "        },\n",
    "        \"correct\":\"correct answer\"\n",
    "    },\n",
    "    \"2\":{\n",
    "        \"mcq\":\"multiple choice question\",\n",
    "        \"options\":{\n",
    "            \"a\":\"choice here\",\n",
    "            \"b\":\"choice here\",\n",
    "            \"c\":\"choice here\",\n",
    "            \"d\":\"choice here\"\n",
    "        },\n",
    "        \"correct\":\"correct answer\"\n",
    "    },\n",
    "    \"3\":{\n",
    "        \"mcq\":\"multiple choice question\",\n",
    "        \"options\":{\n",
    "            \"a\":\"choice here\",\n",
    "            \"b\":\"choice here\",\n",
    "            \"c\":\"choice here\",\n",
    "            \"d\":\"choice here\"\n",
    "        },\n",
    "        \"correct\":\"correct answer\"\n",
    "    },\n",
    "    \"4\":{\n",
    "        \"mcq\":\"multiple choice question\",\n",
    "        \"options\":{\n",
    "            \"a\":\"choice here\",\n",
    "            \"b\":\"choice here\",\n",
    "            \"c\":\"choice here\",\n",
    "            \"d\":\"choice here\"\n",
    "        },\n",
    "        \"correct\":\"correct answer\"\n",
    "    },\n",
    "\n",
    "}"
   ]
  },
  {
   "cell_type": "code",
   "execution_count": 19,
   "metadata": {},
   "outputs": [],
   "source": [
    "TEMPLATE = \"\"\"\n",
    "Text:{text}\n",
    "You are an export MCQ maker. Given the above text, it is your job to \\\n",
    "create a quiz of {number} multiple choice questions for {subject} students in {tone} tone.\n",
    "Make sure the questions are not repeated and check the all questions to be conforming the text as well.\n",
    "Make sure to format your response like RESPONSE_JSON below and use it as guide \\\n",
    "Ensure to make {number} MCQs\n",
    "### RESPONSE_JSON\n",
    "{response_json}\n",
    "\"\"\""
   ]
  },
  {
   "cell_type": "code",
   "execution_count": 21,
   "metadata": {},
   "outputs": [],
   "source": [
    "quize_prompt_template = PromptTemplate(\n",
    "    input_variables=[\"text\",\"number\",\"subject\",\"tone\",\"response_json\"],\n",
    "    template=TEMPLATE\n",
    "    \n",
    ")"
   ]
  },
  {
   "cell_type": "code",
   "execution_count": 23,
   "metadata": {},
   "outputs": [],
   "source": [
    "quize_chain = LLMChain(llm=llm,prompt=quize_prompt_template,output_key=\"quiz\",verbose=True)"
   ]
  },
  {
   "cell_type": "code",
   "execution_count": 24,
   "metadata": {},
   "outputs": [],
   "source": [
    "TEMPLATE2=\"\"\"\n",
    "You are an expert english grammarian and writer. Given a Multiple Choice Quiz for {subject} students.\\\n",
    "You need to evaluate the complexity of the question and give a complete analysis of the quiz. Only use at max 50 words for complexity analysis. \n",
    "if the quiz is not at per with the cognitive and analytical abilities of the students,\\\n",
    "update the quiz questions which needs to be changed and change the tone such that it perfectly fits the student abilities\n",
    "Quiz_MCQs:\n",
    "{quiz}\n",
    "\n",
    "Check from an expert English Writer of the above quiz:\n",
    "\"\"\""
   ]
  },
  {
   "cell_type": "code",
   "execution_count": 26,
   "metadata": {},
   "outputs": [],
   "source": [
    "quiz_evlution_prompt = PromptTemplate(input_variables=['subject',\"quiz\"],template=TEMPLATE2)"
   ]
  },
  {
   "cell_type": "code",
   "execution_count": 30,
   "metadata": {},
   "outputs": [],
   "source": [
    "review_chian = LLMChain(llm=llm,prompt=quiz_evlution_prompt,output_key=\"review\",verbose=True)"
   ]
  },
  {
   "cell_type": "code",
   "execution_count": 31,
   "metadata": {},
   "outputs": [],
   "source": [
    "generate_evaluate_chain = SequentialChain(chains=[quize_chain,review_chian],input_variables=[\"text\",\"number\",\"subject\",\"tone\",\"response_json\",'subject'],\n",
    "                output_variables=[\"quiz\",\"review\"],verbose=True)"
   ]
  },
  {
   "cell_type": "code",
   "execution_count": 33,
   "metadata": {},
   "outputs": [],
   "source": [
    "file_path = r\"C:\\Users\\dell\\Desktop\\GEN AI Proj\\MCQ\\GenAI\\data.txt\"\n",
    "with open(file_path,'r') as file:\n",
    "    TEXT= file.read()"
   ]
  },
  {
   "cell_type": "code",
   "execution_count": 35,
   "metadata": {},
   "outputs": [
    {
     "data": {
      "text/plain": [
       "'{\"1\": {\"mcq\": \"multiple choice question\", \"options\": {\"a\": \"choice here\", \"b\": \"choice here\", \"c\": \"choice here\", \"d\": \"choice here\"}, \"correct\": \"correct answer\"}, \"2\": {\"mcq\": \"multiple choice question\", \"options\": {\"a\": \"choice here\", \"b\": \"choice here\", \"c\": \"choice here\", \"d\": \"choice here\"}, \"correct\": \"correct answer\"}, \"3\": {\"mcq\": \"multiple choice question\", \"options\": {\"a\": \"choice here\", \"b\": \"choice here\", \"c\": \"choice here\", \"d\": \"choice here\"}, \"correct\": \"correct answer\"}, \"4\": {\"mcq\": \"multiple choice question\", \"options\": {\"a\": \"choice here\", \"b\": \"choice here\", \"c\": \"choice here\", \"d\": \"choice here\"}, \"correct\": \"correct answer\"}}'"
      ]
     },
     "execution_count": 35,
     "metadata": {},
     "output_type": "execute_result"
    }
   ],
   "source": [
    "json.dumps(RESPONSE_JSON)"
   ]
  },
  {
   "cell_type": "code",
   "execution_count": 36,
   "metadata": {},
   "outputs": [],
   "source": [
    "NUMBER=5\n",
    "SUBJECT=\"Machine Learning\"\n",
    "TONE=\"simple\""
   ]
  },
  {
   "cell_type": "code",
   "execution_count": 38,
   "metadata": {},
   "outputs": [
    {
     "name": "stdout",
     "output_type": "stream",
     "text": [
      "\n",
      "\n",
      "\u001b[1m> Entering new SequentialChain chain...\u001b[0m\n",
      "\n",
      "\n",
      "\u001b[1m> Entering new LLMChain chain...\u001b[0m\n",
      "Prompt after formatting:\n",
      "\u001b[32;1m\u001b[1;3m\n",
      "Text:The term machine learning was coined in 1959 by Arthur Samuel, an IBM employee and pioneer in the field of computer gaming and artificial intelligence.[9][10] The synonym self-teaching computers was also used in this time period.[11][12]\n",
      "\n",
      "Although the earliest machine learning model was introduced in the 1950s when Arthur Samuel invented a program that calculated the winning chance in checkers for each side, the history of machine learning roots back to decades of human desire and effort to study human cognitive processes.[13] In 1949, Canadian psychologist Donald Hebb published the book The Organization of Behavior, in which he introduced a theoretical neural structure formed by certain interactions among nerve cells.[14] Hebb's model of neurons interacting with one another set a groundwork for how AIs and machine learning algorithms work under nodes, or artificial neurons used by computers to communicate data.[13] Other researchers who have studied human cognitive systems contributed to the modern machine learning technologies as well, including logician Walter Pitts and Warren McCulloch, who proposed the early mathematical models of neural networks to come up with algorithms that mirror human thought processes.[13]\n",
      "\n",
      "By the early 1960s an experimental \"learning machine\" with punched tape memory, called Cybertron, had been developed by Raytheon Company to analyze sonar signals, electrocardiograms, and speech patterns using rudimentary reinforcement learning. It was repetitively \"trained\" by a human operator/teacher to recognize patterns and equipped with a \"goof\" button to cause it to re-evaluate incorrect decisions.[15] A representative book on research into machine learning during the 1960s was Nilsson's book on Learning Machines, dealing mostly with machine learning for pattern classification.[16] Interest related to pattern recognition continued into the 1970s, as described by Duda and Hart in 1973.[17] In 1981 a report was given on using teaching strategies so that an artificial neural network learns to recognize 40 characters (26 letters, 10 digits, and 4 special symbols) from a computer terminal.[18]\n",
      "\n",
      "Tom M. Mitchell provided a widely quoted, more formal definition of the algorithms studied in the machine learning field: \"A computer program is said to learn from experience E with respect to some class of tasks T and performance measure P if its performance at tasks in T, as measured by P, improves with experience E.\"[19] This definition of the tasks in which machine learning is concerned offers a fundamentally operational definition rather than defining the field in cognitive terms. This follows Alan Turing's proposal in his paper \"Computing Machinery and Intelligence\", in which the question \"Can machines think?\" is replaced with the question \"Can machines do what we (as thinking entities) can do?\".[20]\n",
      "\n",
      "Modern-day machine learning has two objectives. One is to classify data based on models which have been developed; the other purpose is to make predictions for future outcomes based on these models. A hypothetical algorithm specific to classifying data may use computer vision of moles coupled with supervised learning in order to train it to classify the cancerous moles. A machine learning algorithm for stock trading may inform the trader of future potential predictions.[21]\n",
      "You are an export MCQ maker. Given the above text, it is your job to create a quiz of 5 multiple choice questions for Machine Learning students in simple tone.\n",
      "Make sure the questions are not repeated and check the all questions to be conforming the text as well.\n",
      "Make sure to format your response like RESPONSE_JSON below and use it as guide Ensure to make 5 MCQs\n",
      "### RESPONSE_JSON\n",
      "{\"1\": {\"mcq\": \"multiple choice question\", \"options\": {\"a\": \"choice here\", \"b\": \"choice here\", \"c\": \"choice here\", \"d\": \"choice here\"}, \"correct\": \"correct answer\"}, \"2\": {\"mcq\": \"multiple choice question\", \"options\": {\"a\": \"choice here\", \"b\": \"choice here\", \"c\": \"choice here\", \"d\": \"choice here\"}, \"correct\": \"correct answer\"}, \"3\": {\"mcq\": \"multiple choice question\", \"options\": {\"a\": \"choice here\", \"b\": \"choice here\", \"c\": \"choice here\", \"d\": \"choice here\"}, \"correct\": \"correct answer\"}, \"4\": {\"mcq\": \"multiple choice question\", \"options\": {\"a\": \"choice here\", \"b\": \"choice here\", \"c\": \"choice here\", \"d\": \"choice here\"}, \"correct\": \"correct answer\"}}\n",
      "\u001b[0m\n",
      "\n",
      "\u001b[1m> Finished chain.\u001b[0m\n",
      "\n",
      "\n",
      "\u001b[1m> Entering new LLMChain chain...\u001b[0m\n",
      "Prompt after formatting:\n",
      "\u001b[32;1m\u001b[1;3m\n",
      "You are an expert english grammarian and writer. Given a Multiple Choice Quiz for Machine Learning students.You need to evaluate the complexity of the question and give a complete analysis of the quiz. Only use at max 50 words for complexity analysis. \n",
      "if the quiz is not at per with the cognitive and analytical abilities of the students,update the quiz questions which needs to be changed and change the tone such that it perfectly fits the student abilities\n",
      "Quiz_MCQs:\n",
      "\n",
      "{\n",
      "\"1\": {\n",
      "\"mcq\": \"What term was coined by Arthur Samuel in 1959 to describe the field of computer gaming and artificial intelligence?\",\n",
      "\"options\": {\n",
      "\"a\": \"Machine Thinking\",\n",
      "\"b\": \"Artificial Learning\",\n",
      "\"c\": \"Machine Learning\",\n",
      "\"d\": \"Computer Intelligence\"\n",
      "},\n",
      "\"correct\": \"c\"\n",
      "},\n",
      "\"2\": {\n",
      "\"mcq\": \"Who published the book 'The Organization of Behavior' in 1949, introducing a theoretical neural structure?\",\n",
      "\"options\": {\n",
      "\"a\": \"Tom M. Mitchell\",\n",
      "\"b\": \"Donald Hebb\",\n",
      "\"c\": \"Walter Pitts\",\n",
      "\"d\": \"Warren McCulloch\"\n",
      "},\n",
      "\"correct\": \"b\"\n",
      "},\n",
      "\"3\": {\n",
      "\"mcq\": \"In the 1960s, what was the name of the 'learning machine' developed by Raytheon Company to analyze sonar signals and speech patterns?\",\n",
      "\"options\": {\n",
      "\"a\": \"Cyberdyne\",\n",
      "\"b\": \"Cybernet\",\n",
      "\"c\": \"Cybertron\",\n",
      "\"d\": \"Cyberspace\"\n",
      "},\n",
      "\"correct\": \"c\"\n",
      "},\n",
      "\"4\": {\n",
      "\"mcq\": \"According to Tom M. Mitchell, what is the definition of a computer program learning from experience with respect to tasks and performance?\",\n",
      "\"options\": {\n",
      "\"a\": \"Improving with experience E\",\n",
      "\"b\": \"Learning from experience T\",\n",
      "\"c\": \"Performing with measure P\",\n",
      "\"d\": \"Defining with cognitive terms\"\n",
      "},\n",
      "\"correct\": \"a\"\n",
      "},\n",
      "\"5\": {\n",
      "\"mcq\": \"What are the two main objectives of modern-day machine learning?\",\n",
      "\"options\": {\n",
      "\"a\": \"To write code and analyze data\",\n",
      "\"b\": \"To predict future outcomes and classify data\",\n",
      "\"c\": \"To create models and develop algorithms\",\n",
      "\"d\": \"To learn from human cognitive processes\"\n",
      "},\n",
      "\"correct\": \"b\"\n",
      "}\n",
      "}\n",
      "\n",
      "Check from an expert English Writer of the above quiz:\n",
      "\u001b[0m\n",
      "\n",
      "\u001b[1m> Finished chain.\u001b[0m\n",
      "\n",
      "\u001b[1m> Finished chain.\u001b[0m\n"
     ]
    }
   ],
   "source": [
    "with get_openai_callback() as cb:\n",
    "    response = generate_evaluate_chain(\n",
    "        {\n",
    "            \"text\":TEXT,\n",
    "            \"number\":NUMBER,\n",
    "            \"subject\":SUBJECT,\n",
    "            \"tone\":TONE,\n",
    "            \"response_json\":json.dumps(RESPONSE_JSON)\n",
    "        }\n",
    "    )\n"
   ]
  },
  {
   "cell_type": "code",
   "execution_count": 40,
   "metadata": {},
   "outputs": [
    {
     "name": "stdout",
     "output_type": "stream",
     "text": [
      "Total Tokens : 1870\n",
      "Prompt Tokens: 1437\n",
      "Completion Tokens: 433\n",
      "Total Cost: 0.0030215\n"
     ]
    }
   ],
   "source": [
    "print(f\"Total Tokens : {cb.total_tokens}\")\n",
    "print(f\"Prompt Tokens: {cb.prompt_tokens}\")\n",
    "print(f\"Completion Tokens: {cb.completion_tokens}\")\n",
    "print(f\"Total Cost: {cb.total_cost}\")"
   ]
  },
  {
   "cell_type": "code",
   "execution_count": 42,
   "metadata": {},
   "outputs": [
    {
     "name": "stdout",
     "output_type": "stream",
     "text": [
      "\n",
      "{\n",
      "\"1\": {\n",
      "\"mcq\": \"What term was coined by Arthur Samuel in 1959 to describe the field of computer gaming and artificial intelligence?\",\n",
      "\"options\": {\n",
      "\"a\": \"Machine Thinking\",\n",
      "\"b\": \"Artificial Learning\",\n",
      "\"c\": \"Machine Learning\",\n",
      "\"d\": \"Computer Intelligence\"\n",
      "},\n",
      "\"correct\": \"c\"\n",
      "},\n",
      "\"2\": {\n",
      "\"mcq\": \"Who published the book 'The Organization of Behavior' in 1949, introducing a theoretical neural structure?\",\n",
      "\"options\": {\n",
      "\"a\": \"Tom M. Mitchell\",\n",
      "\"b\": \"Donald Hebb\",\n",
      "\"c\": \"Walter Pitts\",\n",
      "\"d\": \"Warren McCulloch\"\n",
      "},\n",
      "\"correct\": \"b\"\n",
      "},\n",
      "\"3\": {\n",
      "\"mcq\": \"In the 1960s, what was the name of the 'learning machine' developed by Raytheon Company to analyze sonar signals and speech patterns?\",\n",
      "\"options\": {\n",
      "\"a\": \"Cyberdyne\",\n",
      "\"b\": \"Cybernet\",\n",
      "\"c\": \"Cybertron\",\n",
      "\"d\": \"Cyberspace\"\n",
      "},\n",
      "\"correct\": \"c\"\n",
      "},\n",
      "\"4\": {\n",
      "\"mcq\": \"According to Tom M. Mitchell, what is the definition of a computer program learning from experience with respect to tasks and performance?\",\n",
      "\"options\": {\n",
      "\"a\": \"Improving with experience E\",\n",
      "\"b\": \"Learning from experience T\",\n",
      "\"c\": \"Performing with measure P\",\n",
      "\"d\": \"Defining with cognitive terms\"\n",
      "},\n",
      "\"correct\": \"a\"\n",
      "},\n",
      "\"5\": {\n",
      "\"mcq\": \"What are the two main objectives of modern-day machine learning?\",\n",
      "\"options\": {\n",
      "\"a\": \"To write code and analyze data\",\n",
      "\"b\": \"To predict future outcomes and classify data\",\n",
      "\"c\": \"To create models and develop algorithms\",\n",
      "\"d\": \"To learn from human cognitive processes\"\n",
      "},\n",
      "\"correct\": \"b\"\n",
      "}\n",
      "}\n"
     ]
    }
   ],
   "source": [
    "print(response.get(\"quiz\"))"
   ]
  },
  {
   "cell_type": "code",
   "execution_count": 43,
   "metadata": {},
   "outputs": [],
   "source": [
    "quiz = json.loads(response.get(\"quiz\"))\n",
    "quiz_table_data = []\n",
    "for key, value in quiz.items():\n",
    "    mcq = value[\"mcq\"]\n",
    "    options = \" | \".join(\n",
    "        [\n",
    "            f\"{option}: {option_value}\"\n",
    "            for option, option_value in value[\"options\"].items()\n",
    "            ]\n",
    "        )\n",
    "    correct = value[\"correct\"]\n",
    "    quiz_table_data.append({\"MCQ\": mcq, \"Choices\": options, \"Correct\": correct})"
   ]
  },
  {
   "cell_type": "code",
   "execution_count": 44,
   "metadata": {},
   "outputs": [
    {
     "data": {
      "text/plain": [
       "[{'MCQ': 'What term was coined by Arthur Samuel in 1959 to describe the field of computer gaming and artificial intelligence?',\n",
       "  'Choices': 'a: Machine Thinking | b: Artificial Learning | c: Machine Learning | d: Computer Intelligence',\n",
       "  'Correct': 'c'},\n",
       " {'MCQ': \"Who published the book 'The Organization of Behavior' in 1949, introducing a theoretical neural structure?\",\n",
       "  'Choices': 'a: Tom M. Mitchell | b: Donald Hebb | c: Walter Pitts | d: Warren McCulloch',\n",
       "  'Correct': 'b'},\n",
       " {'MCQ': \"In the 1960s, what was the name of the 'learning machine' developed by Raytheon Company to analyze sonar signals and speech patterns?\",\n",
       "  'Choices': 'a: Cyberdyne | b: Cybernet | c: Cybertron | d: Cyberspace',\n",
       "  'Correct': 'c'},\n",
       " {'MCQ': 'According to Tom M. Mitchell, what is the definition of a computer program learning from experience with respect to tasks and performance?',\n",
       "  'Choices': 'a: Improving with experience E | b: Learning from experience T | c: Performing with measure P | d: Defining with cognitive terms',\n",
       "  'Correct': 'a'},\n",
       " {'MCQ': 'What are the two main objectives of modern-day machine learning?',\n",
       "  'Choices': 'a: To write code and analyze data | b: To predict future outcomes and classify data | c: To create models and develop algorithms | d: To learn from human cognitive processes',\n",
       "  'Correct': 'b'}]"
      ]
     },
     "execution_count": 44,
     "metadata": {},
     "output_type": "execute_result"
    }
   ],
   "source": [
    "quiz_table_data"
   ]
  },
  {
   "cell_type": "code",
   "execution_count": 46,
   "metadata": {},
   "outputs": [],
   "source": [
    "quiz_df = pd.DataFrame(quiz_table_data)"
   ]
  },
  {
   "cell_type": "code",
   "execution_count": 47,
   "metadata": {},
   "outputs": [
    {
     "data": {
      "text/html": [
       "<div>\n",
       "<style scoped>\n",
       "    .dataframe tbody tr th:only-of-type {\n",
       "        vertical-align: middle;\n",
       "    }\n",
       "\n",
       "    .dataframe tbody tr th {\n",
       "        vertical-align: top;\n",
       "    }\n",
       "\n",
       "    .dataframe thead th {\n",
       "        text-align: right;\n",
       "    }\n",
       "</style>\n",
       "<table border=\"1\" class=\"dataframe\">\n",
       "  <thead>\n",
       "    <tr style=\"text-align: right;\">\n",
       "      <th></th>\n",
       "      <th>MCQ</th>\n",
       "      <th>Choices</th>\n",
       "      <th>Correct</th>\n",
       "    </tr>\n",
       "  </thead>\n",
       "  <tbody>\n",
       "    <tr>\n",
       "      <th>0</th>\n",
       "      <td>What term was coined by Arthur Samuel in 1959 ...</td>\n",
       "      <td>a: Machine Thinking | b: Artificial Learning |...</td>\n",
       "      <td>c</td>\n",
       "    </tr>\n",
       "    <tr>\n",
       "      <th>1</th>\n",
       "      <td>Who published the book 'The Organization of Be...</td>\n",
       "      <td>a: Tom M. Mitchell | b: Donald Hebb | c: Walte...</td>\n",
       "      <td>b</td>\n",
       "    </tr>\n",
       "    <tr>\n",
       "      <th>2</th>\n",
       "      <td>In the 1960s, what was the name of the 'learni...</td>\n",
       "      <td>a: Cyberdyne | b: Cybernet | c: Cybertron | d:...</td>\n",
       "      <td>c</td>\n",
       "    </tr>\n",
       "    <tr>\n",
       "      <th>3</th>\n",
       "      <td>According to Tom M. Mitchell, what is the defi...</td>\n",
       "      <td>a: Improving with experience E | b: Learning f...</td>\n",
       "      <td>a</td>\n",
       "    </tr>\n",
       "    <tr>\n",
       "      <th>4</th>\n",
       "      <td>What are the two main objectives of modern-day...</td>\n",
       "      <td>a: To write code and analyze data | b: To pred...</td>\n",
       "      <td>b</td>\n",
       "    </tr>\n",
       "  </tbody>\n",
       "</table>\n",
       "</div>"
      ],
      "text/plain": [
       "                                                 MCQ  \\\n",
       "0  What term was coined by Arthur Samuel in 1959 ...   \n",
       "1  Who published the book 'The Organization of Be...   \n",
       "2  In the 1960s, what was the name of the 'learni...   \n",
       "3  According to Tom M. Mitchell, what is the defi...   \n",
       "4  What are the two main objectives of modern-day...   \n",
       "\n",
       "                                             Choices Correct  \n",
       "0  a: Machine Thinking | b: Artificial Learning |...       c  \n",
       "1  a: Tom M. Mitchell | b: Donald Hebb | c: Walte...       b  \n",
       "2  a: Cyberdyne | b: Cybernet | c: Cybertron | d:...       c  \n",
       "3  a: Improving with experience E | b: Learning f...       a  \n",
       "4  a: To write code and analyze data | b: To pred...       b  "
      ]
     },
     "execution_count": 47,
     "metadata": {},
     "output_type": "execute_result"
    }
   ],
   "source": [
    "quiz_df"
   ]
  },
  {
   "cell_type": "code",
   "execution_count": 49,
   "metadata": {},
   "outputs": [],
   "source": [
    "quiz_df.to_csv(\"machine_learning_quiz.csv\")"
   ]
  },
  {
   "cell_type": "code",
   "execution_count": null,
   "metadata": {},
   "outputs": [],
   "source": []
  },
  {
   "cell_type": "code",
   "execution_count": 50,
   "metadata": {},
   "outputs": [],
   "source": [
    "from langchain_community.callbacks import get_openai_callback"
   ]
  },
  {
   "cell_type": "code",
   "execution_count": null,
   "metadata": {},
   "outputs": [],
   "source": []
  }
 ],
 "metadata": {
  "kernelspec": {
   "display_name": "Python 3",
   "language": "python",
   "name": "python3"
  },
  "language_info": {
   "codemirror_mode": {
    "name": "ipython",
    "version": 3
   },
   "file_extension": ".py",
   "mimetype": "text/x-python",
   "name": "python",
   "nbconvert_exporter": "python",
   "pygments_lexer": "ipython3",
   "version": "3.10.14"
  }
 },
 "nbformat": 4,
 "nbformat_minor": 2
}
